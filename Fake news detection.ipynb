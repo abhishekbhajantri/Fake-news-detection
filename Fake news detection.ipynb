{
 "cells": [
  {
   "cell_type": "code",
   "execution_count": 65,
   "id": "42533f3f",
   "metadata": {},
   "outputs": [],
   "source": [
    "import numpy as np\n",
    "import pandas as pd\n",
    "import nltk\n",
    "import re\n",
    "from nltk.corpus import stopwords\n",
    "from nltk.stem import WordNetLemmatizer\n",
    "from nltk.tokenize import word_tokenize\n",
    "import itertools\n",
    "from sklearn.model_selection import train_test_split\n",
    "from sklearn.feature_extraction.text import TfidfVectorizer\n",
    "from sklearn.linear_model import LogisticRegression\n",
    "from sklearn.svm import SVC\n",
    "from sklearn.naive_bayes import MultinomialNB\n",
    "from sklearn.tree import DecisionTreeClassifier\n",
    "from sklearn.metrics import accuracy_score, confusion_matrix,classification_report\n",
    "from nltk.tokenize.treebank import TreebankWordDetokenizer\n",
    "from tabulate import tabulate\n",
    "from sklearn import metrics\n",
    "import matplotlib.pyplot as plt\n",
    "import seaborn as sns"
   ]
  },
  {
   "cell_type": "code",
   "execution_count": 16,
   "id": "35f2d33d",
   "metadata": {},
   "outputs": [
    {
     "data": {
      "text/html": [
       "<div>\n",
       "<style scoped>\n",
       "    .dataframe tbody tr th:only-of-type {\n",
       "        vertical-align: middle;\n",
       "    }\n",
       "\n",
       "    .dataframe tbody tr th {\n",
       "        vertical-align: top;\n",
       "    }\n",
       "\n",
       "    .dataframe thead th {\n",
       "        text-align: right;\n",
       "    }\n",
       "</style>\n",
       "<table border=\"1\" class=\"dataframe\">\n",
       "  <thead>\n",
       "    <tr style=\"text-align: right;\">\n",
       "      <th></th>\n",
       "      <th>Unnamed: 0</th>\n",
       "      <th>title</th>\n",
       "      <th>text</th>\n",
       "      <th>label</th>\n",
       "    </tr>\n",
       "  </thead>\n",
       "  <tbody>\n",
       "    <tr>\n",
       "      <th>0</th>\n",
       "      <td>8476</td>\n",
       "      <td>You Can Smell Hillary’s Fear</td>\n",
       "      <td>Daniel Greenfield, a Shillman Journalism Fello...</td>\n",
       "      <td>FAKE</td>\n",
       "    </tr>\n",
       "    <tr>\n",
       "      <th>1</th>\n",
       "      <td>10294</td>\n",
       "      <td>Watch The Exact Moment Paul Ryan Committed Pol...</td>\n",
       "      <td>Google Pinterest Digg Linkedin Reddit Stumbleu...</td>\n",
       "      <td>FAKE</td>\n",
       "    </tr>\n",
       "    <tr>\n",
       "      <th>2</th>\n",
       "      <td>3608</td>\n",
       "      <td>Kerry to go to Paris in gesture of sympathy</td>\n",
       "      <td>U.S. Secretary of State John F. Kerry said Mon...</td>\n",
       "      <td>REAL</td>\n",
       "    </tr>\n",
       "    <tr>\n",
       "      <th>3</th>\n",
       "      <td>10142</td>\n",
       "      <td>Bernie supporters on Twitter erupt in anger ag...</td>\n",
       "      <td>— Kaydee King (@KaydeeKing) November 9, 2016 T...</td>\n",
       "      <td>FAKE</td>\n",
       "    </tr>\n",
       "    <tr>\n",
       "      <th>4</th>\n",
       "      <td>875</td>\n",
       "      <td>The Battle of New York: Why This Primary Matters</td>\n",
       "      <td>It's primary day in New York and front-runners...</td>\n",
       "      <td>REAL</td>\n",
       "    </tr>\n",
       "  </tbody>\n",
       "</table>\n",
       "</div>"
      ],
      "text/plain": [
       "   Unnamed: 0                                              title  \\\n",
       "0        8476                       You Can Smell Hillary’s Fear   \n",
       "1       10294  Watch The Exact Moment Paul Ryan Committed Pol...   \n",
       "2        3608        Kerry to go to Paris in gesture of sympathy   \n",
       "3       10142  Bernie supporters on Twitter erupt in anger ag...   \n",
       "4         875   The Battle of New York: Why This Primary Matters   \n",
       "\n",
       "                                                text label  \n",
       "0  Daniel Greenfield, a Shillman Journalism Fello...  FAKE  \n",
       "1  Google Pinterest Digg Linkedin Reddit Stumbleu...  FAKE  \n",
       "2  U.S. Secretary of State John F. Kerry said Mon...  REAL  \n",
       "3  — Kaydee King (@KaydeeKing) November 9, 2016 T...  FAKE  \n",
       "4  It's primary day in New York and front-runners...  REAL  "
      ]
     },
     "execution_count": 16,
     "metadata": {},
     "output_type": "execute_result"
    }
   ],
   "source": [
    "#Read the data\n",
    "df=pd.read_csv('news.csv')\n",
    "\n",
    "#Get shape and head\n",
    "df.shape\n",
    "df.head()"
   ]
  },
  {
   "cell_type": "code",
   "execution_count": 17,
   "id": "71edb19e",
   "metadata": {},
   "outputs": [
    {
     "data": {
      "text/plain": [
       "0    FAKE\n",
       "1    FAKE\n",
       "2    REAL\n",
       "3    FAKE\n",
       "4    REAL\n",
       "Name: label, dtype: object"
      ]
     },
     "execution_count": 17,
     "metadata": {},
     "output_type": "execute_result"
    }
   ],
   "source": [
    "#Get the labels\n",
    "labels=df.label\n",
    "labels.head()"
   ]
  },
  {
   "cell_type": "code",
   "execution_count": 18,
   "id": "d79306d9",
   "metadata": {},
   "outputs": [
    {
     "data": {
      "text/plain": [
       "Unnamed: 0    0\n",
       "title         0\n",
       "text          0\n",
       "label         0\n",
       "dtype: int64"
      ]
     },
     "execution_count": 18,
     "metadata": {},
     "output_type": "execute_result"
    }
   ],
   "source": [
    "# no null values\n",
    "df.isnull().sum()"
   ]
  },
  {
   "cell_type": "code",
   "execution_count": 19,
   "id": "c02ac313",
   "metadata": {},
   "outputs": [
    {
     "data": {
      "text/plain": [
       "REAL    3171\n",
       "FAKE    3164\n",
       "Name: label, dtype: int64"
      ]
     },
     "execution_count": 19,
     "metadata": {},
     "output_type": "execute_result"
    }
   ],
   "source": [
    "#balanced dataset or not\n",
    "df['label'].value_counts()"
   ]
  },
  {
   "cell_type": "code",
   "execution_count": 67,
   "id": "44f21378",
   "metadata": {},
   "outputs": [],
   "source": [
    "ps = WordNetLemmatizer()\n",
    "stopwords = stopwords.words('english')\n",
    "#preprocessing function\n",
    "def cleaning_data(row):\n",
    "    \n",
    "    # convert text to into lower case\n",
    "    row = row.lower() \n",
    "    \n",
    "    # this line of code only take words from text and remove number and special character using RegX\n",
    "    row = re.sub('[^a-zA-Z]' , ' ' , row)\n",
    "    \n",
    "    # split the data and make token.\n",
    "    #token = row.split() \n",
    "    token=word_tokenize(row)\n",
    "    # lemmatize the word and remove stop words like a, an , the , is ,are ...\n",
    "    news = [ps.lemmatize(word) for word in token if not word in stopwords]  \n",
    "    \n",
    "    # finaly join all the token with space\n",
    "    cleanned_news = ' '.join(news) \n",
    "    \n",
    "    # return cleanned data\n",
    "    return cleanned_news"
   ]
  },
  {
   "cell_type": "code",
   "execution_count": 21,
   "id": "f6d9675d",
   "metadata": {},
   "outputs": [],
   "source": [
    "#applying the preprocessing steps to the dataset\n",
    "df['text'] = df['text'].apply(lambda x : cleaning_data(x))\n"
   ]
  },
  {
   "cell_type": "code",
   "execution_count": 22,
   "id": "f8c54640",
   "metadata": {},
   "outputs": [
    {
     "name": "stdout",
     "output_type": "stream",
     "text": [
      "                                                   text label\n",
      "0     daniel greenfield shillman journalism fellow f...  FAKE\n",
      "1     google pinterest digg linkedin reddit stumbleu...  FAKE\n",
      "2     u secretary state john f kerry said monday sto...  REAL\n",
      "3     kaydee king kaydeeking november lesson tonight...  FAKE\n",
      "4     primary day new york front runner hillary clin...  REAL\n",
      "...                                                 ...   ...\n",
      "6330  state department told republican national comm...  REAL\n",
      "6331  p pb stand plutocratic pentagon posted oct wik...  FAKE\n",
      "6332  anti trump protester tool oligarchy reform alw...  FAKE\n",
      "6333  addis ababa ethiopia president obama convened ...  REAL\n",
      "6334  jeb bush suddenly attacking trump matter jeb b...  REAL\n",
      "\n",
      "[6335 rows x 2 columns]\n"
     ]
    }
   ],
   "source": [
    "print(df[['text','label']])\n"
   ]
  },
  {
   "cell_type": "code",
   "execution_count": 23,
   "id": "907dd44b",
   "metadata": {},
   "outputs": [],
   "source": [
    "#Split the dataset\n",
    "x_train,x_test,y_train,y_test=train_test_split(df['text'], labels, test_size=0.2, random_state=7)"
   ]
  },
  {
   "cell_type": "code",
   "execution_count": 24,
   "id": "415df2e9",
   "metadata": {},
   "outputs": [],
   "source": [
    "#Initialize a TfidfVectorizer\n",
    "tfidf_vectorizer=TfidfVectorizer()\n",
    "\n",
    "#Fit and transform train set, transform test set\n",
    "tfidf_train=tfidf_vectorizer.fit_transform(x_train) \n",
    "tfidf_test=tfidf_vectorizer.transform(x_test)"
   ]
  },
  {
   "cell_type": "code",
   "execution_count": 25,
   "id": "3620310a",
   "metadata": {},
   "outputs": [
    {
     "name": "stdout",
     "output_type": "stream",
     "text": [
      "Score 0.9179163378058406\n",
      "Accuracy:91.79%\n"
     ]
    }
   ],
   "source": [
    "#Logistic Regression\n",
    "alg_name = []\n",
    "alg_accuracy = []\n",
    "\n",
    "lr=LogisticRegression()\n",
    "lr.fit(tfidf_train,y_train)\n",
    "#Predict on the test set and calculate accuracy\n",
    "y_pred_lr=lr.predict(tfidf_test)\n",
    "score_lr=accuracy_score(y_test,y_pred_lr)\n",
    "print(\"Score\",score_lr)\n",
    "lr_perc=round(score_lr*100,2)\n",
    "print(\"Accuracy:{}%\".format(lr_perc))\n",
    "\n"
   ]
  },
  {
   "cell_type": "code",
   "execution_count": 26,
   "id": "aa5b20c7",
   "metadata": {},
   "outputs": [],
   "source": [
    "alg_name.append('Logistic Regression')\n",
    "alg_accuracy.append(lr_perc)"
   ]
  },
  {
   "cell_type": "code",
   "execution_count": 28,
   "id": "4714f272",
   "metadata": {},
   "outputs": [
    {
     "name": "stdout",
     "output_type": "stream",
     "text": [
      "Score: 0.9273875295974744\n",
      "Accuracy:92.74%\n"
     ]
    }
   ],
   "source": [
    "#SUPPORT VECTOR MACHINE\n",
    "svc = SVC()\n",
    "svc.fit(tfidf_train,y_train)\n",
    "#Predict on the test set and calculate accuracy\n",
    "y_pred_svc=svc.predict(tfidf_test)\n",
    "score_svc=accuracy_score(y_test,y_pred_svc)\n",
    "print(\"Score:\",score_svc)\n",
    "svc_perc=round(score_svc*100,2)\n",
    "print(\"Accuracy:{}%\".format(svc_perc))\n",
    "\n",
    "\n"
   ]
  },
  {
   "cell_type": "code",
   "execution_count": 29,
   "id": "d24f5151",
   "metadata": {},
   "outputs": [],
   "source": [
    "alg_name.append('Support vector machine')\n",
    "alg_accuracy.append(svc_perc)"
   ]
  },
  {
   "cell_type": "code",
   "execution_count": 30,
   "id": "940234c2",
   "metadata": {},
   "outputs": [
    {
     "name": "stdout",
     "output_type": "stream",
     "text": [
      "Score: 0.8382004735595896\n",
      "Accuracy:83.82%\n"
     ]
    }
   ],
   "source": [
    "#MULTINOMIAL NAIVE BAYES\n",
    "mnb = MultinomialNB()\n",
    "mnb.fit(tfidf_train,y_train)\n",
    "#Predict on the test set and calculate accuracy\n",
    "y_pred_mnb=mnb.predict(tfidf_test)\n",
    "score_mnb=accuracy_score(y_test,y_pred_mnb)\n",
    "print(\"Score:\",score_mnb)\n",
    "mnb_perc=round(score_mnb*100,2)\n",
    "print(\"Accuracy:{}%\".format(mnb_perc))\n",
    "\n",
    "\n"
   ]
  },
  {
   "cell_type": "code",
   "execution_count": 31,
   "id": "4ebca137",
   "metadata": {},
   "outputs": [],
   "source": [
    "alg_name.append('Multinomial Naive Bayes')\n",
    "alg_accuracy.append(mnb_perc)"
   ]
  },
  {
   "cell_type": "code",
   "execution_count": 32,
   "id": "0bbf1f5a",
   "metadata": {},
   "outputs": [
    {
     "name": "stdout",
     "output_type": "stream",
     "text": [
      "Score: 0.7916337805840569\n",
      "Accuracy:79.16%\n"
     ]
    }
   ],
   "source": [
    "#DECISION TREE\n",
    "dt = DecisionTreeClassifier()\n",
    "dt.fit(tfidf_train,y_train)\n",
    "#Predict on the test set and calculate accuracy\n",
    "y_pred_dt=dt.predict(tfidf_test)\n",
    "score_dt=accuracy_score(y_test,y_pred_dt)\n",
    "print(\"Score:\",score_dt)\n",
    "dt_perc=round(score_dt*100,2)\n",
    "print(\"Accuracy:{}%\".format(dt_perc))\n",
    "\n",
    "\n"
   ]
  },
  {
   "cell_type": "code",
   "execution_count": 33,
   "id": "0cee5f44",
   "metadata": {},
   "outputs": [],
   "source": [
    "alg_name.append('Decision Tree')\n",
    "alg_accuracy.append(dt_perc)"
   ]
  },
  {
   "cell_type": "code",
   "execution_count": 34,
   "id": "956d9548",
   "metadata": {},
   "outputs": [
    {
     "name": "stdout",
     "output_type": "stream",
     "text": [
      "Classifier      Accuracy\n",
      "------------  ----------\n",
      "SVC                92.74\n",
      "LR                 91.79\n",
      "MNB                83.82\n",
      "DT                 79.16\n"
     ]
    }
   ],
   "source": [
    "d = [[\"SVC\", svc_perc],\n",
    "     [\"LR\", lr_perc],\n",
    "     [\"MNB\", mnb_perc],\n",
    "     [\"DT\", dt_perc]]\n",
    "print(tabulate(d, headers=[\"Classifier\", \"Accuracy\"]))"
   ]
  },
  {
   "cell_type": "code",
   "execution_count": 35,
   "id": "c2411275",
   "metadata": {},
   "outputs": [
    {
     "data": {
      "image/png": "[encoded data removed]",
      "text/plain": [
       "<Figure size 720x432 with 1 Axes>"
      ]
     },
     "metadata": {
      "needs_background": "light"
     },
     "output_type": "display_data"
    }
   ],
   "source": [
    "data = pd.DataFrame({'alg_name': alg_name, 'alg_accuracies': alg_accuracy})\n",
    "sorted_data = data.reindex((data['alg_accuracies'].sort_values(ascending=False)).index.values)\n",
    "\n",
    "plt.subplots(figsize=(10,6))\n",
    "sns.barplot(x=sorted_data['alg_name'], y=sorted_data['alg_accuracies'], palette = 'Paired')\n",
    "plt.xticks(rotation=-45)\n",
    "plt.xlabel('Algorithm Name')\n",
    "plt.ylabel('Algorithm Accuracy')\n",
    "plt.title('Algorithm Train Accuracy Comparison')\n",
    "plt.show()"
   ]
  },
  {
   "cell_type": "code",
   "execution_count": 36,
   "id": "6c73e2b2",
   "metadata": {},
   "outputs": [
    {
     "data": {
      "text/plain": [
       "array([[600,  38],\n",
       "       [ 66, 563]], dtype=int64)"
      ]
     },
     "execution_count": 36,
     "metadata": {},
     "output_type": "execute_result"
    }
   ],
   "source": [
    "#Build confusion matrix for logistic regression\n",
    "confusion_matrix(y_test,y_pred_lr, labels=['FAKE','REAL'])"
   ]
  },
  {
   "cell_type": "code",
   "execution_count": 37,
   "id": "cb57daca",
   "metadata": {},
   "outputs": [
    {
     "data": {
      "text/plain": [
       "array([[604,  34],\n",
       "       [ 58, 571]], dtype=int64)"
      ]
     },
     "execution_count": 37,
     "metadata": {},
     "output_type": "execute_result"
    }
   ],
   "source": [
    "#Build confusion matrix for support vector machine\n",
    "confusion_matrix(y_test,y_pred_svc, labels=['FAKE','REAL'])"
   ]
  },
  {
   "cell_type": "code",
   "execution_count": 38,
   "id": "c8b7ffb8",
   "metadata": {},
   "outputs": [
    {
     "data": {
      "image/png": "[encoded data removed]",
      "text/plain": [
       "<Figure size 432x288 with 2 Axes>"
      ]
     },
     "metadata": {
      "needs_background": "light"
     },
     "output_type": "display_data"
    }
   ],
   "source": [
    "#Build confusion matrix for svc\n",
    "confusion_matrix(y_test,y_pred_svc, labels=['FAKE','REAL'])\n",
    "#conf_mat = metrics.confusion_matrix(y_test, y_pred)\n",
    "conf_mat = metrics.confusion_matrix(y_test, y_pred_svc)\n",
    "labels = ['REAL', 'FAKE']\n",
    "fig = plt.figure()\n",
    "ax = fig.add_subplot(111)\n",
    "cax = ax.matshow(conf_mat)\n",
    "plt.title('Confusion Matrix Of The SVC Classifier\\n')\n",
    "fig.colorbar(cax)\n",
    "tick_marks = np.arange(len(labels))\n",
    "plt.xlabel('\\nPredicted Label')\n",
    "plt.ylabel('True Label')\n",
    "plt.xticks(tick_marks, labels, rotation=0)\n",
    "plt.yticks(tick_marks, labels)\n",
    "s = [['TN','FP'], ['FN', 'TP']]\n",
    "for i in range(2):\n",
    "    for j in range(2):\n",
    "        plt.text(j,i, str(s[i][j])+\" = \"+str(conf_mat[i][j]))\n",
    "plt.show()"
   ]
  },
  {
   "cell_type": "code",
   "execution_count": 69,
   "id": "268e3213",
   "metadata": {},
   "outputs": [],
   "source": [
    "news = cleaning_data(str(\"Imposters posing as army personnel on the social media have been called out by the Indian Army as false news and disinformation.\"))"
   ]
  },
  {
   "cell_type": "code",
   "execution_count": 70,
   "id": "0158cf6e",
   "metadata": {},
   "outputs": [
    {
     "name": "stdout",
     "output_type": "stream",
     "text": [
      "News is FAKE\n"
     ]
    }
   ],
   "source": [
    "single_prediction = svc.predict(tfidf_vectorizer.transform([news]))\n",
    "single_prediction = TreebankWordDetokenizer().detokenize(single_prediction)\n",
    "print(\"News is\",single_prediction)\n"
   ]
  },
  {
   "cell_type": "code",
   "execution_count": 74,
   "id": "b08c44fc",
   "metadata": {},
   "outputs": [
    {
     "name": "stdout",
     "output_type": "stream",
     "text": [
      "News is REAL\n"
     ]
    }
   ],
   "source": [
    "news_1 = cleaning_data(str(\"U.S. Secretary of State John F. Kerry said Monday that he will stop in Paris later this week, amid criticism that no top American officials attended Sunday’s unity march against terrorism.\"))\n",
    "single_prediction = svc.predict(tfidf_vectorizer.transform([news_1]))\n",
    "single_prediction = TreebankWordDetokenizer().detokenize(single_prediction)\n",
    "print(\"News is\",single_prediction)"
   ]
  }
 ],
 "metadata": {
  "kernelspec": {
   "display_name": "Python 3",
   "language": "python",
   "name": "python3"
  },
  "language_info": {
   "codemirror_mode": {
    "name": "ipython",
    "version": 3
   },
   "file_extension": ".py",
   "mimetype": "text/x-python",
   "name": "python",
   "nbconvert_exporter": "python",
   "pygments_lexer": "ipython3",
   "version": "3.9.5"
  }
 },
 "nbformat": 4,
 "nbformat_minor": 5
}
